{
 "cells": [
  {
   "cell_type": "markdown",
   "metadata": {},
   "source": [
    "# Tutorial for imantics with coco export \n",
    "### /!\\ The data is not present in the git so this tutorial will NOT run /!\\\n",
    "##### It is solely meant as an example of what is possible  "
   ]
  },
  {
   "cell_type": "code",
   "execution_count": null,
   "metadata": {},
   "outputs": [],
   "source": [
    "from imantics import Mask, Image, Category, Dataset\n",
    "import numpy as np \n",
    "import cv2,os\n",
    "import json "
   ]
  },
  {
   "cell_type": "code",
   "execution_count": null,
   "metadata": {},
   "outputs": [],
   "source": [
    "dataset=Dataset(\"annotations\") #create a new dataset to export to our json file later\n",
    "image_path=\"images/\"\n",
    "mask_path=\"masks/\"\n",
    "\"\"\"\n",
    "the data structure here is : \n",
    "- images are in \"images/\"\n",
    "- masks are in \"masks/image_name/masks\" (all the masks for each image are here) \n",
    "- you may of course change this \n",
    "\"\"\"\n",
    "for i,image_name in enumerate(os.listdir(image_path)) :\n",
    "    image=Image.from_path(image_path)\n",
    "    image.id=i\n",
    "    for mask in os.listdir(mask_path+\"/\"+image_name):  \n",
    "        mask_image=cv2.imread(mask) #get a mask (adapt this to use case)\n",
    "        mask_category=\"window\" #get mask category somehow (it may be in mask name for instance)\n",
    "        category_id=0 #each category (window...) needs a distinct id \n",
    "        mask=Mask(mask_image)  #create the mask \n",
    "        image.add(mask, category=Category(mask_category,id=category_id)) #add the mask to the image \n",
    "    dataset.add(image)     \n",
    "(dataset_train,dataset_val)=dataset.split((6,1),random_bool=True) # 0.9 0.1 split\n",
    "out_train = open(\"dataset_train.json\", \"w\") #name of the json files to be exported \n",
    "out_val = open(\"dataset_val.json\", \"w\")\n",
    "json.dump(dataset_train.coco(),out_train, indent=4) #export to coco\n",
    "json.dump(dataset_val.coco(),out_val, indent=4)"
   ]
  }
 ],
 "metadata": {
  "kernelspec": {
   "display_name": "Python 3.10.5 ('fsl_test')",
   "language": "python",
   "name": "python3"
  },
  "language_info": {
   "name": "python",
   "version": "3.10.5"
  },
  "orig_nbformat": 4,
  "vscode": {
   "interpreter": {
    "hash": "d16cbe911e6ea0990cf5855f9334604c0c0e440e22aa4d4df595b39a5b742541"
   }
  }
 },
 "nbformat": 4,
 "nbformat_minor": 2
}
